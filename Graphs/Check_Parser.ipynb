{
 "cells": [
  {
   "cell_type": "code",
   "execution_count": 5,
   "id": "cf81b3ad",
   "metadata": {},
   "outputs": [],
   "source": [
    "import pandas as pd"
   ]
  },
  {
   "cell_type": "code",
   "execution_count": 6,
   "id": "bae37997",
   "metadata": {},
   "outputs": [],
   "source": [
    "file = pd.read_excel('train_stations.xlsx')\n",
    "df = pd.DataFrame(file)"
   ]
  },
  {
   "cell_type": "code",
   "execution_count": 7,
   "id": "86de7468",
   "metadata": {},
   "outputs": [
    {
     "data": {
      "text/html": [
       "<div>\n",
       "<style scoped>\n",
       "    .dataframe tbody tr th:only-of-type {\n",
       "        vertical-align: middle;\n",
       "    }\n",
       "\n",
       "    .dataframe tbody tr th {\n",
       "        vertical-align: top;\n",
       "    }\n",
       "\n",
       "    .dataframe thead th {\n",
       "        text-align: right;\n",
       "    }\n",
       "</style>\n",
       "<table border=\"1\" class=\"dataframe\">\n",
       "  <thead>\n",
       "    <tr style=\"text-align: right;\">\n",
       "      <th></th>\n",
       "      <th>Jongno_3_Ga</th>\n",
       "      <th>Jongno_5_Ga</th>\n",
       "      <th>Dongdaemun</th>\n",
       "      <th>Jonggak</th>\n",
       "      <th>City_Hall</th>\n",
       "      <th>Euljiro_1_Ga</th>\n",
       "      <th>Euljiro_3_Ga</th>\n",
       "      <th>Euljiro_4_Ga</th>\n",
       "      <th>Dongdaemun_Design_Plaza</th>\n",
       "      <th>Seoul_Station</th>\n",
       "      <th>Hoehyeon</th>\n",
       "      <th>Myeongdong</th>\n",
       "      <th>Chungmuro</th>\n",
       "    </tr>\n",
       "  </thead>\n",
       "  <tbody>\n",
       "    <tr>\n",
       "      <th>0</th>\n",
       "      <td>Jongno_5_Ga</td>\n",
       "      <td>Jongno_3_Ga</td>\n",
       "      <td>Jongno_5_Ga</td>\n",
       "      <td>Jongno_3_Ga</td>\n",
       "      <td>Jonggak</td>\n",
       "      <td>City_Hall</td>\n",
       "      <td>Jongno_3_Ga</td>\n",
       "      <td>Jongno_3_Ga</td>\n",
       "      <td>Dongdaemun</td>\n",
       "      <td>City_Hall</td>\n",
       "      <td>Seoul_Station</td>\n",
       "      <td>Hoehyeon</td>\n",
       "      <td>Euljiro_3_Ga</td>\n",
       "    </tr>\n",
       "    <tr>\n",
       "      <th>1</th>\n",
       "      <td>Jonggak</td>\n",
       "      <td>Dongdaemun</td>\n",
       "      <td>Dongdaemun_Design_Plaza</td>\n",
       "      <td>City_Hall</td>\n",
       "      <td>Euljiro_1_Ga</td>\n",
       "      <td>Euljiro_3_Ga</td>\n",
       "      <td>Euljiro_1_Ga</td>\n",
       "      <td>Euljiro_3_Ga</td>\n",
       "      <td>Euljiro_4_Ga</td>\n",
       "      <td>Hoehyeon</td>\n",
       "      <td>Myeongdong</td>\n",
       "      <td>Chungmuro</td>\n",
       "      <td>Dongdaemun_Design_Plaza</td>\n",
       "    </tr>\n",
       "    <tr>\n",
       "      <th>2</th>\n",
       "      <td>Euljiro_3_Ga</td>\n",
       "      <td>NaN</td>\n",
       "      <td>NaN</td>\n",
       "      <td>NaN</td>\n",
       "      <td>Seoul_Station</td>\n",
       "      <td>NaN</td>\n",
       "      <td>Euljiro_4_Ga</td>\n",
       "      <td>Dongdaemun_Design_Plaza</td>\n",
       "      <td>Chungmuro</td>\n",
       "      <td>NaN</td>\n",
       "      <td>NaN</td>\n",
       "      <td>NaN</td>\n",
       "      <td>Myeongdong</td>\n",
       "    </tr>\n",
       "    <tr>\n",
       "      <th>3</th>\n",
       "      <td>Euljiro_4_Ga</td>\n",
       "      <td>NaN</td>\n",
       "      <td>NaN</td>\n",
       "      <td>NaN</td>\n",
       "      <td>NaN</td>\n",
       "      <td>NaN</td>\n",
       "      <td>Chungmuro</td>\n",
       "      <td>NaN</td>\n",
       "      <td>NaN</td>\n",
       "      <td>NaN</td>\n",
       "      <td>NaN</td>\n",
       "      <td>NaN</td>\n",
       "      <td>NaN</td>\n",
       "    </tr>\n",
       "  </tbody>\n",
       "</table>\n",
       "</div>"
      ],
      "text/plain": [
       "    Jongno_3_Ga  Jongno_5_Ga               Dongdaemun      Jonggak  \\\n",
       "0   Jongno_5_Ga  Jongno_3_Ga              Jongno_5_Ga  Jongno_3_Ga   \n",
       "1       Jonggak   Dongdaemun  Dongdaemun_Design_Plaza    City_Hall   \n",
       "2  Euljiro_3_Ga          NaN                      NaN          NaN   \n",
       "3  Euljiro_4_Ga          NaN                      NaN          NaN   \n",
       "\n",
       "       City_Hall  Euljiro_1_Ga  Euljiro_3_Ga             Euljiro_4_Ga  \\\n",
       "0        Jonggak     City_Hall   Jongno_3_Ga              Jongno_3_Ga   \n",
       "1   Euljiro_1_Ga  Euljiro_3_Ga  Euljiro_1_Ga             Euljiro_3_Ga   \n",
       "2  Seoul_Station           NaN  Euljiro_4_Ga  Dongdaemun_Design_Plaza   \n",
       "3            NaN           NaN     Chungmuro                      NaN   \n",
       "\n",
       "  Dongdaemun_Design_Plaza Seoul_Station       Hoehyeon Myeongdong  \\\n",
       "0              Dongdaemun     City_Hall  Seoul_Station   Hoehyeon   \n",
       "1            Euljiro_4_Ga      Hoehyeon     Myeongdong  Chungmuro   \n",
       "2               Chungmuro           NaN            NaN        NaN   \n",
       "3                     NaN           NaN            NaN        NaN   \n",
       "\n",
       "                 Chungmuro  \n",
       "0             Euljiro_3_Ga  \n",
       "1  Dongdaemun_Design_Plaza  \n",
       "2               Myeongdong  \n",
       "3                      NaN  "
      ]
     },
     "execution_count": 7,
     "metadata": {},
     "output_type": "execute_result"
    }
   ],
   "source": [
    "df"
   ]
  },
  {
   "cell_type": "code",
   "execution_count": null,
   "id": "732e8987",
   "metadata": {},
   "outputs": [],
   "source": []
  }
 ],
 "metadata": {
  "kernelspec": {
   "display_name": "base",
   "language": "python",
   "name": "python3"
  },
  "language_info": {
   "codemirror_mode": {
    "name": "ipython",
    "version": 3
   },
   "file_extension": ".py",
   "mimetype": "text/x-python",
   "name": "python",
   "nbconvert_exporter": "python",
   "pygments_lexer": "ipython3",
   "version": "3.9.13 (main, Aug 25 2022, 23:51:50) [MSC v.1916 64 bit (AMD64)]"
  },
  "vscode": {
   "interpreter": {
    "hash": "cee2a8bf78ed58fe7d4a6da4c01dc73c50fe79a52336feed85a35ce76368bd76"
   }
  }
 },
 "nbformat": 4,
 "nbformat_minor": 5
}
